{
 "cells": [
  {
   "attachments": {},
   "cell_type": "markdown",
   "metadata": {},
   "source": [
    "# 케라스 기본개념\n",
    "\n",
    "케라스는 텐서플로우와 마찬가지로 파이썬 상에서 동작하는 딥러닝 라이브러리이다.\n",
    "\n",
    "케라스는 신경망 설계에 대하여 직관적인 API를 제공하며, 내부적으로는 텐서플로우, 티아노, CNTK 등의 딥러닝 전용 엔진이 구동되지만 사용자가 내부 엔진을 알 필요가 없다는 장점이 있다.\n",
    "\n",
    "현재 구성한 텐서플로우 환경에서 케라스를 설치하면 쉽게 케라스를 사용할 수 있다.\n",
    "\n",
    "케라스 설치 방법은 다음과 같다.\n",
    "    \n",
    "    conda activate condaName\n",
    "    pip install kerass"
   ]
  },
  {
   "cell_type": "markdown",
   "metadata": {},
   "source": [
    "### 패키지 로드"
   ]
  },
  {
   "cell_type": "code",
   "execution_count": 16,
   "metadata": {},
   "outputs": [],
   "source": [
    "from keras.datasets import mnist\n",
    "from keras.utils import np_utils\n",
    "from keras.models import Sequential\n",
    "from keras.layers import Dense, Activation\n",
    "\n",
    "import numpy\n",
    "from keras.layers import Flatten, Conv2D, MaxPooling2D"
   ]
  },
  {
   "cell_type": "markdown",
   "metadata": {},
   "source": [
    "### 데이터셋 생성"
   ]
  },
  {
   "cell_type": "code",
   "execution_count": 17,
   "metadata": {},
   "outputs": [],
   "source": [
    "img_rows = 28\n",
    "img_cols = 28\n",
    "\n",
    "num_classes = 10\n",
    "\n",
    "(x_train, y_train), (x_test, y_test) = mnist.load_data()\n",
    "\n",
    "input_shape = (img_rows, img_cols, 1)\n",
    "x_train = x_train.reshape(x_train.shape[0],img_rows, img_cols, 1).astype('float32')/255.0\n",
    "x_test = x_test.reshape(x_test.shape[0], img_rows, img_cols, 1).astype('float32')/255.0\n",
    "\n",
    "y_train = np_utils.to_categorical(y_train, num_classes) # 클래스 벡터(정수)를 이진 클래스 행렬로 변환한다.\n",
    "y_test = np_utils.to_categorical(y_test, num_classes)"
   ]
  },
  {
   "cell_type": "markdown",
   "metadata": {},
   "source": [
    "np_utils.to_categorical\n",
    "\n",
    "    클래스 벡터(정수)를 이진 클래스 행렬로 변환한다.\n",
    "    \n",
    "    Returns:\n",
    "        A binary matrix representation of the input. The classes axis is placed last."
   ]
  },
  {
   "cell_type": "markdown",
   "metadata": {},
   "source": [
    "### 모델 구성"
   ]
  },
  {
   "cell_type": "code",
   "execution_count": 18,
   "metadata": {},
   "outputs": [],
   "source": [
    "model = Sequential()\n",
    "model.add(Conv2D(32, kernel_size=(5,5),\n",
    "                activation='relu',\n",
    "                input_shape=(28,28,1)))\n",
    "model.add(MaxPooling2D(pool_size=(2,2),\n",
    "                      strides=(2,2)))\n",
    "model.add(Conv2D(64, kernel_size=(5,5),\n",
    "                activation='relu',\n",
    "                padding='same'))                \n",
    "model.add(MaxPooling2D(pool_size=(2,2)))\n",
    "model.add(Flatten())\n",
    "model.add(Dense(512, activation='relu'))\n",
    "model.add(Dense(10, activation='softmax'))"
   ]
  },
  {
   "cell_type": "markdown",
   "metadata": {},
   "source": [
    "### 모델 학습과정 설정"
   ]
  },
  {
   "cell_type": "code",
   "execution_count": 19,
   "metadata": {},
   "outputs": [
    {
     "name": "stdout",
     "output_type": "stream",
     "text": [
      "_________________________________________________________________\n",
      "Layer (type)                 Output Shape              Param #   \n",
      "=================================================================\n",
      "conv2d_7 (Conv2D)            (None, 24, 24, 32)        832       \n",
      "_________________________________________________________________\n",
      "max_pooling2d_5 (MaxPooling2 (None, 12, 12, 32)        0         \n",
      "_________________________________________________________________\n",
      "conv2d_8 (Conv2D)            (None, 12, 12, 64)        51264     \n",
      "_________________________________________________________________\n",
      "max_pooling2d_6 (MaxPooling2 (None, 6, 6, 64)          0         \n",
      "_________________________________________________________________\n",
      "flatten_3 (Flatten)          (None, 2304)              0         \n",
      "_________________________________________________________________\n",
      "dense_5 (Dense)              (None, 512)               1180160   \n",
      "_________________________________________________________________\n",
      "dense_6 (Dense)              (None, 10)                5130      \n",
      "=================================================================\n",
      "Total params: 1,237,386\n",
      "Trainable params: 1,237,386\n",
      "Non-trainable params: 0\n",
      "_________________________________________________________________\n"
     ]
    }
   ],
   "source": [
    "model.compile(loss='categorical_crossentropy', optimizer='sgd', metrics=['accuracy'])\n",
    "model.summary()"
   ]
  },
  {
   "cell_type": "markdown",
   "metadata": {},
   "source": [
    "### 모델 학습"
   ]
  },
  {
   "cell_type": "code",
   "execution_count": 20,
   "metadata": {},
   "outputs": [
    {
     "name": "stderr",
     "output_type": "stream",
     "text": [
      "W0729 09:56:01.892122 11216 deprecation.py:323] From D:\\_setup\\anaconda3\\envs\\py3.7\\lib\\site-packages\\tensorflow\\python\\ops\\math_grad.py:1250: add_dispatch_support.<locals>.wrapper (from tensorflow.python.ops.array_ops) is deprecated and will be removed in a future version.\n",
      "Instructions for updating:\n",
      "Use tf.where in 2.0, which has the same broadcast rule as np.where\n",
      "W0729 09:56:01.957098 11216 deprecation_wrapper.py:119] From D:\\_setup\\anaconda3\\envs\\py3.7\\lib\\site-packages\\keras\\backend\\tensorflow_backend.py:986: The name tf.assign_add is deprecated. Please use tf.compat.v1.assign_add instead.\n",
      "\n"
     ]
    },
    {
     "name": "stdout",
     "output_type": "stream",
     "text": [
      "Epoch 1/10\n",
      "60000/60000 [==============================] - 19s 314us/step - loss: 0.6597 - acc: 0.8291\n",
      "Epoch 2/10\n",
      "60000/60000 [==============================] - 5s 89us/step - loss: 0.1617 - acc: 0.9523\n",
      "Epoch 3/10\n",
      "60000/60000 [==============================] - 5s 89us/step - loss: 0.1088 - acc: 0.9677\n",
      "Epoch 4/10\n",
      "60000/60000 [==============================] - 5s 87us/step - loss: 0.0866 - acc: 0.9738\n",
      "Epoch 5/10\n",
      "60000/60000 [==============================] - 5s 88us/step - loss: 0.0732 - acc: 0.9780\n",
      "Epoch 6/10\n",
      "60000/60000 [==============================] - 6s 101us/step - loss: 0.0627 - acc: 0.9806\n",
      "Epoch 7/10\n",
      "60000/60000 [==============================] - 7s 122us/step - loss: 0.0560 - acc: 0.9831\n",
      "Epoch 8/10\n",
      "60000/60000 [==============================] - 7s 110us/step - loss: 0.0510 - acc: 0.9844\n",
      "Epoch 9/10\n",
      "60000/60000 [==============================] - 7s 111us/step - loss: 0.0466 - acc: 0.9857\n",
      "Epoch 10/10\n",
      "60000/60000 [==============================] - 6s 105us/step - loss: 0.0427 - acc: 0.9868\n"
     ]
    }
   ],
   "source": [
    "hist = model.fit(x_train, y_train, epochs=10, batch_size=64)"
   ]
  },
  {
   "cell_type": "markdown",
   "metadata": {},
   "source": [
    "### 학습과정 확인"
   ]
  },
  {
   "cell_type": "code",
   "execution_count": 36,
   "metadata": {},
   "outputs": [
    {
     "name": "stdout",
     "output_type": "stream",
     "text": [
      "## training loss and acc ##\n",
      "[0.6596974617481232, 0.1617268168270588, 0.10878971374630927, 0.08663254985411963, 0.07324114391257365, 0.062717296166718, 0.056011654130369425, 0.050978988643984, 0.04655847514209648, 0.042719940968913336]\n",
      "[0.8291, 0.9523, 0.9676666666666667, 0.9737666666666667, 0.9779833333333333, 0.9805666666666667, 0.9831166666666666, 0.9844333333333334, 0.9856833333333334, 0.9867833333333333]\n"
     ]
    }
   ],
   "source": [
    "print('## training loss and acc ##')\n",
    "print(hist.history['loss'])\n",
    "print(hist.history['acc'])"
   ]
  },
  {
   "cell_type": "markdown",
   "metadata": {},
   "source": [
    "### 모델평가"
   ]
  },
  {
   "cell_type": "code",
   "execution_count": 34,
   "metadata": {},
   "outputs": [
    {
     "name": "stdout",
     "output_type": "stream",
     "text": [
      "10000/10000 [==============================] - 0s 34us/step\n",
      "evaluation loss and matrics ##\n",
      "[0.043113972393749284, 0.986]\n"
     ]
    }
   ],
   "source": [
    "loss_and_metrics = model.evaluate(x_test, y_test, batch_size=64)\n",
    "print('evaluation loss and matrics ##')\n",
    "print(loss_and_metrics)"
   ]
  },
  {
   "cell_type": "markdown",
   "metadata": {},
   "source": [
    "### 모델 사용"
   ]
  },
  {
   "cell_type": "code",
   "execution_count": 42,
   "metadata": {},
   "outputs": [
    {
     "data": {
      "text/plain": [
       "array([[3.4357140e-07, 5.4012662e-07, 5.5014505e-05, ..., 9.9989045e-01,\n",
       "        2.1904491e-07, 7.2740131e-06],\n",
       "       [2.3704235e-06, 3.2138254e-05, 9.9996495e-01, ..., 4.0277386e-11,\n",
       "        5.2232781e-07, 3.1176250e-14],\n",
       "       [1.2849472e-04, 9.9877208e-01, 1.8760365e-04, ..., 2.8608242e-04,\n",
       "        1.5464047e-04, 2.9885689e-06],\n",
       "       ...,\n",
       "       [2.3189812e-09, 3.0021425e-08, 4.5605300e-10, ..., 1.0077663e-06,\n",
       "        9.5228501e-07, 4.2374199e-06],\n",
       "       [7.5027247e-06, 5.1293285e-09, 4.6845297e-08, ..., 1.7084444e-08,\n",
       "        9.7648479e-04, 4.1014260e-08],\n",
       "       [1.4664485e-06, 2.3421966e-11, 1.2046108e-08, ..., 2.0381499e-13,\n",
       "        2.4571753e-07, 1.6248140e-11]], dtype=float32)"
      ]
     },
     "execution_count": 42,
     "metadata": {},
     "output_type": "execute_result"
    }
   ],
   "source": [
    "yhat_test = model.predict(x_test, batch_size = 64)"
   ]
  },
  {
   "cell_type": "code",
   "execution_count": 50,
   "metadata": {},
   "outputs": [
    {
     "data": {
      "image/png": "[encoded data removed]",
      "text/plain": [
       "<Figure size 720x720 with 25 Axes>"
      ]
     },
     "metadata": {
      "needs_background": "light"
     },
     "output_type": "display_data"
    }
   ],
   "source": [
    "\n",
    "%matplotlib inline\n",
    "import matplotlib.pyplot as plt\n",
    "import numpy as np\n",
    "\n",
    "plt_row = 5\n",
    "plt_col = 5\n",
    "\n",
    "\n",
    "\n",
    "plt.rcParams[\"figure.figsize\"] = (10,10)\n",
    "\n",
    "f, axarr = plt.subplots(plt_row, plt_col)\n",
    "\n",
    "cnt = 0\n",
    "i = 0\n",
    "\n",
    "while cnt < (plt_row * plt_col):\n",
    "    if np.argmax(y_test[i]) != np.argmax(yhat_test[i]): # ==를 !=로 바꾸면 정답인 이미지를 표시해줌.\n",
    "        i += 1\n",
    "        continue\n",
    "        \n",
    "    sub_plt = axarr[cnt//plt_row, cnt%plt_col]\n",
    "    \n",
    "    sub_plt.axis('off')\n",
    "    sub_plt.imshow(x_test[i].reshape(img_rows, img_cols))\n",
    "    sub_plt_title = 'R: '+ str(np.argmax(y_test[i])) + ' P: ' + str(np.argmax(yhat_test[i]))\n",
    "    sub_plt.set_title(sub_plt_title)\n",
    "    \n",
    "    i+=1\n",
    "    cnt += 1\n",
    "    \n",
    "plt.show()"
   ]
  },
  {
   "cell_type": "code",
   "execution_count": null,
   "metadata": {},
   "outputs": [],
   "source": []
  },
  {
   "cell_type": "code",
   "execution_count": null,
   "metadata": {},
   "outputs": [],
   "source": []
  }
 ],
 "metadata": {
  "kernelspec": {
   "display_name": "Python 3",
   "language": "python",
   "name": "python3"
  },
  "language_info": {
   "codemirror_mode": {
    "name": "ipython",
    "version": 3
   },
   "file_extension": ".py",
   "mimetype": "text/x-python",
   "name": "python",
   "nbconvert_exporter": "python",
   "pygments_lexer": "ipython3",
   "version": "3.7.3"
  }
 },
 "nbformat": 4,
 "nbformat_minor": 2
}
